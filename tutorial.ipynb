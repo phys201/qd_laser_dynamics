{
 "cells": [
  {
   "cell_type": "code",
   "execution_count": 1,
   "metadata": {},
   "outputs": [],
   "source": [
    "%load_ext autoreload\n",
    "%autoreload 2"
   ]
  },
  {
   "cell_type": "markdown",
   "metadata": {},
   "source": [
    "# qd_lasing_dynamics package Tutorial\n",
    "\n",
    "This package is for analyzing quantum dot lasing dynamics in a Baysian framework.  It has objects for defining priors, the model, and doing Baysian parameter estimation with emcee.  "
   ]
  },
  {
   "cell_type": "markdown",
   "metadata": {},
   "source": [
    "## Model Definition"
   ]
  },
  {
   "cell_type": "markdown",
   "metadata": {},
   "source": [
    "Our theoretical model is the solution set to a set of three rate equations (see below). In this model, as is described in [1], it is assumed that carriers are injected into a quantum well and then are subsequently captured by quantum dots for radiative recombination. These coupled rate equations relate Photon Density, Quantum Dot occupation probability, and Carrier Density in the quantum well:\n",
    "\n",
    "$$\n",
    "\\dot{S} = -\\frac{S}{\\tau_s} + g_0v(2\\rho-1)S \\tag{1}\n",
    "$$\n",
    "\n",
    "$$\n",
    "\\dot{\\rho} = -\\frac{\\rho}{\\tau_d} - g_0(2\\rho-1)S + F(N,\\rho) \\tag{2}\n",
    "$$\n",
    "\n",
    "$$\n",
    "\\dot{N} = J - \\frac{N}{\\tau_n} - 2N_dF(N,\\rho) \\tag{3}\n",
    "$$"
   ]
  },
  {
   "cell_type": "markdown",
   "metadata": {},
   "source": [
    "Where S is photon density; N is carrier density in the quantum well; $\\rho$ is the occupation probability in a quantum dot; $\\tau_s$ is the photon lifetime; $\\tau_n$ and $\\tau_d$ are the carrier lifetimes in the well and the dot, respectively; $N_d$ is the 2D density of Quantum Dots, and J is the pump current density. $g_0 = \\sigma_{res}v_g$, where $\\sigma_{res}$ is the cross section of interaction of carriers in the dots with photons; $v_g$ is the group velocity; and $v = 2N_d\\Gamma/d$, where $\\Gamma$ is the confinement factor and $d$ is the thickness of the dot layer."
   ]
  },
  {
   "cell_type": "markdown",
   "metadata": {},
   "source": [
    "Additionally,\n",
    "\n",
    "$$\n",
    "F(N,\\rho) = R_{cap}(1-\\rho)-R_{esc}\\rho \\tag{4}\n",
    "$$\n",
    "\n",
    "Where $R_{cap} = CN^2 + BN$. C describes Auger carrier capture while B describes carrier-phonon capture. $R_{esc}$ is the rate of escape of carriers from quantum dots and is a temperature dependent function. "
   ]
  },
  {
   "cell_type": "markdown",
   "metadata": {},
   "source": [
    "By solving equations 1-3 in steady state, we can define S, $\\rho$, and N in terms of input current, or J. Therefore, the S function in terms of J is essentially your \"lasing curve\". This curve will be what we are \"fitting\" our data to, as this is the format our data is in. "
   ]
  },
  {
   "cell_type": "markdown",
   "metadata": {},
   "source": [
    "When taking lasing curves on our devices, there is a gaussian distribution of noise with standard deviation X units, which will be our likelihood. Additionally, we will be assuming a flat prior for our C coefficient, or the Auger capture rate. Therefore, our statistical model will be:\n",
    "\n",
    "$$\n",
    "y_i = Normal(\\mu, \\sigma)\n",
    "$$\n",
    "\n",
    "$$\n",
    "\\mu = Steady state solution to equations 1-3\n",
    "$$\n",
    "\n",
    "$$\n",
    "C \\simeq Uniform(10^{-19}, 10^{-20})m^4/s\n",
    "$$"
   ]
  },
  {
   "cell_type": "markdown",
   "metadata": {},
   "source": [
    "## Objects"
   ]
  },
  {
   "cell_type": "markdown",
   "metadata": {},
   "source": [
    "### Prior objects"
   ]
  },
  {
   "cell_type": "markdown",
   "metadata": {},
   "source": [
    "Recall,\n",
    "\n",
    "$$p(x) = \\frac{1}{x_{\\mathrm{max}}-x_{\\mathrm{min}}}$$ (Uniform Prior)\n",
    "\n",
    "$$p(x) = \\frac{1}{x \\,\\ln\\left(x_{\\mathrm{max}}/x_{\\mathrm{min}}\\right)}$$ (Jeffery's Prior)\n",
    "\n",
    "Here's how to use them:"
   ]
  },
  {
   "cell_type": "code",
   "execution_count": 2,
   "metadata": {
    "collapsed": false,
    "jupyter": {
     "outputs_hidden": false
    }
   },
   "outputs": [],
   "source": [
    "from numpy import exp\n",
    "\n",
    "from example.inference.model import JefferysPrior, UniformPrior, LogLikelihood"
   ]
  },
  {
   "cell_type": "markdown",
   "metadata": {},
   "source": [
    "## Example of likelihood and posterior calculation using a Uniform Prior"
   ]
  },
  {
   "cell_type": "code",
   "execution_count": 6,
   "metadata": {
    "collapsed": false,
    "jupyter": {
     "outputs_hidden": false
    }
   },
   "outputs": [
    {
     "name": "stdout",
     "output_type": "stream",
     "text": [
      "-681.4104499188221\n",
      "-639.9538679090758\n"
     ]
    }
   ],
   "source": [
    "import pandas as pd\n",
    "dataHBL = pd.DataFrame({ 'x': [270526, 322632, 374737, 426842, 478947, 531053, 583158, 635263, 687368, 739474, \n",
    "                               791579, 843684, 895789, 947895, 1000000],\n",
    "                         'y': [16320651054.799805 , 1.5083098256933988e+19, 4.088297611800159e+19, 6.922358218104778e+19, \n",
    "                               9.992340135914494e+19, 1.3280368221726885e+20, 1.677071608127957e+20, 2.0449461918170448e+20,\n",
    "                               2.4304211200931892e+20, 2.832387185307339e+20, 3.249847029344283e+20, 3.6818999602051704e+20, \n",
    "                               4.127729320605625e+20, 4.586591902554361e+20, 5.057809018304661e+20],\n",
    "                         'sigma_y': [2.18738E+19, 1.41619E+19, 1.94991E+19, 2.57733E+19, 3.71496E+19, 1.37598E+19, \n",
    "                                     2.5289E+19, 2.04495E+19, 2.18738E+19, 1.41619E+19, 1.94991E+19, 2.57733E+19, \n",
    "                                     3.71496E+19, 1.37598E+19, 2.5289E+19]})\n",
    "\n",
    "x = dataHBL['x'][:]\n",
    "y = dataHBL['y'][:]\n",
    "sigma_y = dataHBL['sigma_y'][:]\n",
    "\n",
    "print(LogLikelihood(1e-20, x, y, sigma_y).logllh())\n",
    "print(LogLikelihood(1e-20, x, y, sigma_y).logpost(10e-21, 10e-19))"
   ]
  },
  {
   "cell_type": "markdown",
   "metadata": {},
   "source": [
    "### References\n",
    "1. O’Brien, D., Hegarty, S.P., Huyet, G. and Uskov, A.V., 2004. Sensitivity of quantum-dot semiconductor lasers to optical feedback. Optics letters, 29(10), pp.1072-1074."
   ]
  }
 ],
 "metadata": {
  "kernelspec": {
   "display_name": "Python 2",
   "language": "python",
   "name": "python2"
  },
  "language_info": {
   "codemirror_mode": {
    "name": "ipython",
    "version": 2
   },
   "file_extension": ".py",
   "mimetype": "text/x-python",
   "name": "python",
   "nbconvert_exporter": "python",
   "pygments_lexer": "ipython2",
   "version": "2.7.16"
  },
  "varInspector": {
   "cols": {
    "lenName": 16,
    "lenType": 16,
    "lenVar": 40
   },
   "kernels_config": {
    "python": {
     "delete_cmd_postfix": "",
     "delete_cmd_prefix": "del ",
     "library": "var_list.py",
     "varRefreshCmd": "print(var_dic_list())"
    },
    "r": {
     "delete_cmd_postfix": ") ",
     "delete_cmd_prefix": "rm(",
     "library": "var_list.r",
     "varRefreshCmd": "cat(var_dic_list()) "
    }
   },
   "types_to_exclude": [
    "module",
    "function",
    "builtin_function_or_method",
    "instance",
    "_Feature"
   ],
   "window_display": false
  }
 },
 "nbformat": 4,
 "nbformat_minor": 4
}
